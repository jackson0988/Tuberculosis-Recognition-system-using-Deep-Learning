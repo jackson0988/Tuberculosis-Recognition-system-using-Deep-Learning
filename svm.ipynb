{
 "cells": [
  {
   "cell_type": "code",
   "execution_count": 1,
   "metadata": {},
   "outputs": [
    {
     "name": "stderr",
     "output_type": "stream",
     "text": [
      "Using TensorFlow backend.\n"
     ]
    }
   ],
   "source": [
    "import numpy as np\n",
    "import os\n",
    "import time\n",
    "import pickle\n",
    "import cv2\n",
    "%matplotlib inline\n",
    "import matplotlib.pyplot as plt\n",
    "import matplotlib.image as mpimg\n",
    "\n",
    "from keras import backend as K\n",
    "from keras import applications\n",
    "from keras.preprocessing.image import ImageDataGenerator\n",
    "from keras import optimizers\n",
    "from keras.models import Sequential, Model, load_model \n",
    "from keras.layers import Dropout, Flatten, Dense, GlobalAveragePooling2D, Input\n",
    "from keras import backend as k \n",
    "from keras.callbacks import ModelCheckpoint, LearningRateScheduler, TensorBoard, EarlyStopping\n",
    "from keras.optimizers import Adam, RMSprop, SGD\n",
    "from keras.preprocessing.image import ImageDataGenerator\n",
    "\n",
    "from sklearn.model_selection import cross_val_score\n",
    "from sklearn.model_selection import StratifiedKFold\n",
    "from sklearn.preprocessing import StandardScaler\n",
    "from sklearn.pipeline import Pipeline\n",
    "from sklearn.svm import SVC\n",
    "from sklearn.preprocessing import LabelEncoder\n",
    "from skimage.transform import resize\n",
    "from sklearn.svm import SVC"
   ]
  },
  {
   "cell_type": "code",
   "execution_count": 2,
   "metadata": {},
   "outputs": [],
   "source": [
    "labels = []\n",
    "feature_list = []\n",
    "feature_dict=pickle.load(open('features_till_flatten_validation.pkl','rb'))\n",
    "names = [0,1]\n",
    "for cat,features  in feature_dict.items():\n",
    "    labels.extend([int(cat)] * len(features))\n",
    "    feature_list.append(features)\n",
    "feature_list = np.concatenate(feature_list)"
   ]
  },
  {
   "cell_type": "code",
   "execution_count": 3,
   "metadata": {},
   "outputs": [
    {
     "data": {
      "text/plain": [
       "{0: [array([[0.0000000e+00, 0.0000000e+00, 0.0000000e+00, ..., 8.1864835e+26,\n",
       "          0.0000000e+00, 4.5168163e+26]], dtype=float32),\n",
       "  array([[0.000000e+00, 0.000000e+00, 0.000000e+00, ..., 8.616344e+26,\n",
       "          0.000000e+00, 4.747363e+26]], dtype=float32),\n",
       "  array([[0.0000000e+00, 0.0000000e+00, 0.0000000e+00, ..., 8.2469150e+26,\n",
       "          0.0000000e+00, 4.5470527e+26]], dtype=float32),\n",
       "  array([[0.0000000e+00, 0.0000000e+00, 0.0000000e+00, ..., 7.4126500e+26,\n",
       "          0.0000000e+00, 4.1074653e+26]], dtype=float32),\n",
       "  array([[0.0000000e+00, 0.0000000e+00, 0.0000000e+00, ..., 8.6307084e+26,\n",
       "          0.0000000e+00, 4.7586188e+26]], dtype=float32),\n",
       "  array([[0.0000000e+00, 0.0000000e+00, 0.0000000e+00, ..., 7.8138475e+26,\n",
       "          0.0000000e+00, 4.3170919e+26]], dtype=float32),\n",
       "  array([[0.0000000e+00, 0.0000000e+00, 0.0000000e+00, ..., 8.4641867e+26,\n",
       "          0.0000000e+00, 4.6696357e+26]], dtype=float32),\n",
       "  array([[0.0000000e+00, 0.0000000e+00, 0.0000000e+00, ..., 7.7143155e+26,\n",
       "          0.0000000e+00, 4.2647242e+26]], dtype=float32),\n",
       "  array([[0.0000000e+00, 0.0000000e+00, 0.0000000e+00, ..., 8.3492288e+26,\n",
       "          0.0000000e+00, 4.6051898e+26]], dtype=float32),\n",
       "  array([[0.0000000e+00, 0.0000000e+00, 0.0000000e+00, ..., 8.1860238e+26,\n",
       "          0.0000000e+00, 4.5110616e+26]], dtype=float32),\n",
       "  array([[0.0000000e+00, 0.0000000e+00, 0.0000000e+00, ..., 8.1388496e+26,\n",
       "          0.0000000e+00, 4.4937490e+26]], dtype=float32),\n",
       "  array([[0.0000000e+00, 0.0000000e+00, 0.0000000e+00, ..., 8.7128200e+26,\n",
       "          0.0000000e+00, 4.8034672e+26]], dtype=float32),\n",
       "  array([[0.0000000e+00, 0.0000000e+00, 0.0000000e+00, ..., 8.5412424e+26,\n",
       "          0.0000000e+00, 4.7033486e+26]], dtype=float32),\n",
       "  array([[0.0000000e+00, 0.0000000e+00, 0.0000000e+00, ..., 8.4912643e+26,\n",
       "          0.0000000e+00, 4.6903618e+26]], dtype=float32),\n",
       "  array([[0.0000000e+00, 0.0000000e+00, 0.0000000e+00, ..., 8.5005696e+26,\n",
       "          0.0000000e+00, 4.6880061e+26]], dtype=float32),\n",
       "  array([[0.0000000e+00, 0.0000000e+00, 0.0000000e+00, ..., 8.5017487e+26,\n",
       "          0.0000000e+00, 4.6885632e+26]], dtype=float32),\n",
       "  array([[0.0000000e+00, 0.0000000e+00, 0.0000000e+00, ..., 7.4697987e+26,\n",
       "          0.0000000e+00, 4.1469863e+26]], dtype=float32),\n",
       "  array([[0.0000000e+00, 0.0000000e+00, 0.0000000e+00, ..., 8.5038811e+26,\n",
       "          0.0000000e+00, 4.6885252e+26]], dtype=float32),\n",
       "  array([[0.000000e+00, 0.000000e+00, 0.000000e+00, ..., 8.444416e+26,\n",
       "          0.000000e+00, 4.654091e+26]], dtype=float32),\n",
       "  array([[0.0000000e+00, 0.0000000e+00, 0.0000000e+00, ..., 8.3863687e+26,\n",
       "          0.0000000e+00, 4.6224154e+26]], dtype=float32),\n",
       "  array([[0.0000000e+00, 0.0000000e+00, 0.0000000e+00, ..., 8.4603852e+26,\n",
       "          0.0000000e+00, 4.6628086e+26]], dtype=float32),\n",
       "  array([[0.0000000e+00, 0.0000000e+00, 0.0000000e+00, ..., 8.5018454e+26,\n",
       "          0.0000000e+00, 4.6894394e+26]], dtype=float32),\n",
       "  array([[0.0000000e+00, 0.0000000e+00, 0.0000000e+00, ..., 8.6096171e+26,\n",
       "          0.0000000e+00, 4.7487804e+26]], dtype=float32),\n",
       "  array([[0.000000e+00, 0.000000e+00, 0.000000e+00, ..., 7.641305e+26,\n",
       "          0.000000e+00, 4.215045e+26]], dtype=float32),\n",
       "  array([[0.0000000e+00, 0.0000000e+00, 0.0000000e+00, ..., 7.5012807e+26,\n",
       "          0.0000000e+00, 4.1377423e+26]], dtype=float32),\n",
       "  array([[0.0000000e+00, 0.0000000e+00, 0.0000000e+00, ..., 8.2083481e+26,\n",
       "          0.0000000e+00, 4.5299146e+26]], dtype=float32)],\n",
       " 1: [array([[0.0000000e+00, 0.0000000e+00, 0.0000000e+00, ..., 6.6576845e+26,\n",
       "          0.0000000e+00, 3.6720148e+26]], dtype=float32),\n",
       "  array([[0.0000000e+00, 0.0000000e+00, 0.0000000e+00, ..., 6.2931909e+26,\n",
       "          0.0000000e+00, 3.4710796e+26]], dtype=float32),\n",
       "  array([[0.0000000e+00, 0.0000000e+00, 0.0000000e+00, ..., 6.7742428e+26,\n",
       "          0.0000000e+00, 3.7343596e+26]], dtype=float32),\n",
       "  array([[0.0000000e+00, 0.0000000e+00, 0.0000000e+00, ..., 6.3397932e+26,\n",
       "          0.0000000e+00, 3.4952053e+26]], dtype=float32),\n",
       "  array([[0.0000000e+00, 0.0000000e+00, 0.0000000e+00, ..., 6.8232994e+26,\n",
       "          0.0000000e+00, 3.7618759e+26]], dtype=float32),\n",
       "  array([[0.0000000e+00, 0.0000000e+00, 0.0000000e+00, ..., 6.6165475e+26,\n",
       "          0.0000000e+00, 3.6475522e+26]], dtype=float32),\n",
       "  array([[0.000000e+00, 0.000000e+00, 0.000000e+00, ..., 6.588482e+26,\n",
       "          0.000000e+00, 3.634669e+26]], dtype=float32),\n",
       "  array([[0.000000e+00, 0.000000e+00, 0.000000e+00, ..., 6.706450e+26,\n",
       "          0.000000e+00, 3.698587e+26]], dtype=float32),\n",
       "  array([[0.0000000e+00, 0.0000000e+00, 0.0000000e+00, ..., 6.6732904e+26,\n",
       "          0.0000000e+00, 3.6799011e+26]], dtype=float32),\n",
       "  array([[0.0000000e+00, 0.0000000e+00, 0.0000000e+00, ..., 6.2935731e+26,\n",
       "          0.0000000e+00, 3.4712216e+26]], dtype=float32),\n",
       "  array([[0.0000000e+00, 0.0000000e+00, 0.0000000e+00, ..., 6.4590714e+26,\n",
       "          0.0000000e+00, 3.5603367e+26]], dtype=float32),\n",
       "  array([[0.0000000e+00, 0.0000000e+00, 0.0000000e+00, ..., 6.6819995e+26,\n",
       "          0.0000000e+00, 3.6851249e+26]], dtype=float32),\n",
       "  array([[0.00000e+00, 0.00000e+00, 0.00000e+00, ..., 6.67826e+26,\n",
       "          0.00000e+00, 3.68154e+26]], dtype=float32),\n",
       "  array([[0.0000000e+00, 0.0000000e+00, 0.0000000e+00, ..., 6.8239753e+26,\n",
       "          0.0000000e+00, 3.7620906e+26]], dtype=float32),\n",
       "  array([[0.0000000e+00, 0.0000000e+00, 0.0000000e+00, ..., 6.6976099e+26,\n",
       "          0.0000000e+00, 3.6922874e+26]], dtype=float32)]}"
      ]
     },
     "execution_count": 3,
     "metadata": {},
     "output_type": "execute_result"
    }
   ],
   "source": [
    "feature_dict"
   ]
  },
  {
   "cell_type": "code",
   "execution_count": 4,
   "metadata": {},
   "outputs": [],
   "source": [
    "feature_list1=[]\n",
    "for i in range(0,len(feature_list)):\n",
    "    feature_list1.append(feature_list[i].ravel())"
   ]
  },
  {
   "cell_type": "code",
   "execution_count": 5,
   "metadata": {},
   "outputs": [
    {
     "name": "stderr",
     "output_type": "stream",
     "text": [
      "/usr/local/lib/python3.5/dist-packages/sklearn/svm/base.py:196: FutureWarning: The default value of gamma will change from 'auto' to 'scale' in version 0.22 to account better for unscaled features. Set gamma explicitly to 'auto' or 'scale' to avoid this warning.\n",
      "  \"avoid this warning.\", FutureWarning)\n"
     ]
    }
   ],
   "source": [
    "clf = SVC(kernel='rbf', probability=True).fit(feature_list1,labels )"
   ]
  },
  {
   "cell_type": "code",
   "execution_count": 6,
   "metadata": {},
   "outputs": [
    {
     "name": "stdout",
     "output_type": "stream",
     "text": [
      "Prediction : 0   Actual is : 0\n",
      "Prediction : 0   Actual is : 0\n",
      "Prediction : 0   Actual is : 0\n",
      "Prediction : 0   Actual is : 0\n",
      "Prediction : 0   Actual is : 0\n",
      "Prediction : 0   Actual is : 0\n",
      "Prediction : 0   Actual is : 0\n",
      "Prediction : 0   Actual is : 0\n",
      "Prediction : 0   Actual is : 0\n",
      "Prediction : 0   Actual is : 0\n",
      "Prediction : 0   Actual is : 0\n",
      "Prediction : 0   Actual is : 0\n",
      "Prediction : 0   Actual is : 0\n",
      "Prediction : 0   Actual is : 0\n",
      "Prediction : 0   Actual is : 0\n",
      "Prediction : 0   Actual is : 0\n",
      "Prediction : 0   Actual is : 0\n",
      "Prediction : 0   Actual is : 0\n",
      "Prediction : 0   Actual is : 0\n",
      "Prediction : 0   Actual is : 0\n",
      "Prediction : 0   Actual is : 0\n",
      "Prediction : 0   Actual is : 0\n",
      "Prediction : 0   Actual is : 0\n",
      "Prediction : 0   Actual is : 0\n",
      "Prediction : 0   Actual is : 0\n",
      "Prediction : 0   Actual is : 0\n",
      "Prediction : 1   Actual is : 1\n",
      "Prediction : 1   Actual is : 1\n",
      "Prediction : 1   Actual is : 1\n",
      "Prediction : 1   Actual is : 1\n",
      "Prediction : 1   Actual is : 1\n",
      "Prediction : 1   Actual is : 1\n",
      "Prediction : 1   Actual is : 1\n",
      "Prediction : 1   Actual is : 1\n",
      "Prediction : 1   Actual is : 1\n",
      "Prediction : 1   Actual is : 1\n",
      "Prediction : 1   Actual is : 1\n",
      "Prediction : 1   Actual is : 1\n",
      "Prediction : 1   Actual is : 1\n",
      "Prediction : 1   Actual is : 1\n",
      "Prediction : 1   Actual is : 1\n"
     ]
    }
   ],
   "source": [
    "count=0\n",
    "for i in feature_list:\n",
    "    print(\"Prediction : \"+str(clf.predict(i)[0]),end='')\n",
    "    print(\"   Actual is : \"+str(labels[count]))\n",
    "    count=count+1"
   ]
  },
  {
   "cell_type": "code",
   "execution_count": null,
   "metadata": {},
   "outputs": [],
   "source": []
  },
  {
   "cell_type": "code",
   "execution_count": null,
   "metadata": {},
   "outputs": [],
   "source": []
  },
  {
   "cell_type": "code",
   "execution_count": null,
   "metadata": {},
   "outputs": [],
   "source": []
  },
  {
   "cell_type": "code",
   "execution_count": null,
   "metadata": {},
   "outputs": [],
   "source": []
  },
  {
   "cell_type": "code",
   "execution_count": null,
   "metadata": {},
   "outputs": [],
   "source": []
  },
  {
   "cell_type": "code",
   "execution_count": null,
   "metadata": {},
   "outputs": [],
   "source": []
  }
 ],
 "metadata": {
  "kernelspec": {
   "display_name": "Python 3",
   "language": "python",
   "name": "python3"
  },
  "language_info": {
   "codemirror_mode": {
    "name": "ipython",
    "version": 3
   },
   "file_extension": ".py",
   "mimetype": "text/x-python",
   "name": "python",
   "nbconvert_exporter": "python",
   "pygments_lexer": "ipython3",
   "version": "3.5.2"
  }
 },
 "nbformat": 4,
 "nbformat_minor": 2
}
